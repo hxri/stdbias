{
  "cells": [
    {
      "cell_type": "markdown",
      "metadata": {
        "id": "view-in-github",
        "colab_type": "text"
      },
      "source": [
        "<a href=\"https://colab.research.google.com/github/hxri/stdbias/blob/main/bias_in_colored_fashion_mnist.ipynb\" target=\"_parent\"><img src=\"https://colab.research.google.com/assets/colab-badge.svg\" alt=\"Open In Colab\"/></a>"
      ]
    },
    {
      "cell_type": "code",
      "source": [
        "import keras\n",
        "import tensorflow as tf\n",
        "from tqdm import tqdm\n",
        "from time import sleep\n",
        "import numpy as np\n",
        "import math"
      ],
      "metadata": {
        "id": "mPJ13-ty8mnT"
      },
      "execution_count": 1,
      "outputs": []
    },
    {
      "cell_type": "code",
      "source": [
        "def prepare_data():\n",
        "  fashion_mnist = tf.keras.datasets.fashion_mnist\n",
        "  (train_images, train_labels), (test_images, test_labels) = fashion_mnist.load_data()\n",
        "\n",
        "  train_images = tf.image.grayscale_to_rgb(tf.expand_dims(train_images, axis=3)).numpy()\n",
        "  test_images = tf.image.grayscale_to_rgb(tf.expand_dims(test_images, axis=3)).numpy()\n",
        "\n",
        "  class_names = ['T-shirt/top', 'Trouser', 'Pullover', 'Dress', 'Coat', 'Sandal', 'Shirt', 'Sneaker', 'Bag', 'Ankle boot']\n",
        "\n",
        "  return train_images, test_images, train_labels, test_labels"
      ],
      "metadata": {
        "id": "MaPuWtqs14tP"
      },
      "execution_count": 8,
      "outputs": []
    },
    {
      "cell_type": "code",
      "source": [
        "def colorize(train_images, train_labels):\n",
        "  cl = []\n",
        "  t = []\n",
        "  m = np.random.randint(7, size=(11, 1), dtype=np.uint8)\n",
        "  m = np.unpackbits(m, axis=1)[:, -3:]\n",
        "  m[:,-1] = 1\n",
        "  m\n",
        "\n",
        "  for u in range(len(np.unique(train_labels))):\n",
        "    y = np.where(train_labels == u)\n",
        "    t.append((math.floor(0.8 * len(y))))\n",
        "    cl.append(y)\n",
        "\n",
        "  for i in range(len(cl)):\n",
        "    r = 0\n",
        "    for j in cl[i]:\n",
        "      if(r<=t[i]):\n",
        "        train_images[j] = m[i] * train_images[j]\n",
        "      else:\n",
        "        train_images[j] = m[i+1] * train_images[j]\n",
        "      r = r+1"
      ],
      "metadata": {
        "id": "BzrefGW-2xcC"
      },
      "execution_count": 3,
      "outputs": []
    },
    {
      "cell_type": "code",
      "source": [
        "def gen_model():\n",
        "  model = keras.Sequential([\n",
        "      tf.keras.layers.experimental.preprocessing.Rescaling(scale=1./255),    \n",
        "      tf.keras.layers.Conv2D(28, (3,3), activation='relu', input_shape=(28, 28, 3)),  \n",
        "      tf.keras.layers.MaxPooling2D((2, 2)), \n",
        "      tf.keras.layers.Conv2D(56, (3,3), activation='relu'),  \n",
        "      tf.keras.layers.Flatten(), \n",
        "      tf.keras.layers.Dense(64, activation='relu'),  \n",
        "      tf.keras.layers.Dense(10, activation='softmax')\n",
        "  ])\n",
        "  model.compile(optimizer='adam', loss='sparse_categorical_crossentropy', metrics=['accuracy'])\n",
        "  return model"
      ],
      "metadata": {
        "id": "FD9fOFA18sEN"
      },
      "execution_count": 4,
      "outputs": []
    },
    {
      "cell_type": "code",
      "execution_count": 5,
      "metadata": {
        "id": "tIR17me_bfXP"
      },
      "outputs": [],
      "source": [
        "# Train and Evaluate on model\n",
        "def train_and_evaluate(train_images, test_images, train_labels, test_labels, epochs):\n",
        "  model = gen_model()\n",
        "  history = model.fit(train_images, train_labels, epochs=epochs, verbose=0)\n",
        "  accuracy = history.history['accuracy'][np.argmin(history.history['loss'])]\n",
        "  print(\"Train accuracy : \", accuracy)\n",
        "  eval = model.evaluate(test_images, test_labels, verbose=0)\n",
        "  print(\"Test accuracy : \", eval[1])"
      ]
    },
    {
      "cell_type": "code",
      "source": [
        "def experiment(epochs=10):\n",
        "  train_gray, test_gray, train_label_gray, test_label_gray = prepare_data()\n",
        "  train_colored, test_colored, train_label_colored, test_label_colored = prepare_data()\n",
        "  colorize(train_colored, train_label_colored)\n",
        "  colorize(test_colored, test_label_colored)\n",
        "  print(\"\\n\\nResults for Grayscale\\n\")\n",
        "  train_and_evaluate(train_gray, test_gray, train_label_gray, test_label_gray, epochs)\n",
        "  print(\"\\n\\nResults for Colored\\n\")\n",
        "  train_and_evaluate(train_colored, test_colored, train_label_colored, test_label_colored, epochs)"
      ],
      "metadata": {
        "id": "2tQckofz1nVB"
      },
      "execution_count": 6,
      "outputs": []
    },
    {
      "cell_type": "code",
      "source": [
        "experiment(epochs=5)"
      ],
      "metadata": {
        "colab": {
          "base_uri": "https://localhost:8080/"
        },
        "id": "dAxjpMCI5Rt-",
        "outputId": "1566f963-ad29-4939-a0eb-f3a912962e8f"
      },
      "execution_count": 9,
      "outputs": [
        {
          "output_type": "stream",
          "name": "stdout",
          "text": [
            "\n",
            "\n",
            "Results for Grayscale\n",
            "\n",
            "Train accuracy :  0.9478166699409485\n",
            "Test accuracy :  0.9207000136375427\n",
            "\n",
            "\n",
            "Results for Colored\n",
            "\n",
            "Train accuracy :  0.975849986076355\n",
            "Test accuracy :  0.6539000272750854\n"
          ]
        }
      ]
    },
    {
      "cell_type": "code",
      "source": [
        ""
      ],
      "metadata": {
        "id": "cpJnJbqSD3FN"
      },
      "execution_count": null,
      "outputs": []
    }
  ],
  "metadata": {
    "accelerator": "GPU",
    "colab": {
      "collapsed_sections": [],
      "name": "bias_in_colored_fashion_mnist.ipynb",
      "provenance": [],
      "mount_file_id": "1jmAOiXD2MFK5klPvRD0G1Dn8V6F3PCcr",
      "authorship_tag": "ABX9TyNsIJlxaWQvJ33oMyX3F0RV",
      "include_colab_link": true
    },
    "kernelspec": {
      "display_name": "Python 3",
      "name": "python3"
    },
    "language_info": {
      "name": "python"
    }
  },
  "nbformat": 4,
  "nbformat_minor": 0
}